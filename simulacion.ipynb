{
 "cells": [
  {
   "cell_type": "code",
   "execution_count": null,
   "id": "9c90672a-38f4-4667-bf64-e15facd7c2cf",
   "metadata": {},
   "outputs": [
    {
     "name": "stdout",
     "output_type": "stream",
     "text": [
      "Requirement already satisfied: ipywidgets in c:\\users\\nazar\\anaconda3\\lib\\site-packages (8.1.7)\n",
      "Requirement already satisfied: comm>=0.1.3 in c:\\users\\nazar\\anaconda3\\lib\\site-packages (from ipywidgets) (0.2.1)\n",
      "Requirement already satisfied: ipython>=6.1.0 in c:\\users\\nazar\\anaconda3\\lib\\site-packages (from ipywidgets) (8.27.0)\n",
      "Requirement already satisfied: traitlets>=4.3.1 in c:\\users\\nazar\\anaconda3\\lib\\site-packages (from ipywidgets) (5.14.3)\n",
      "Requirement already satisfied: widgetsnbextension~=4.0.14 in c:\\users\\nazar\\anaconda3\\lib\\site-packages (from ipywidgets) (4.0.14)\n",
      "Requirement already satisfied: jupyterlab_widgets~=3.0.15 in c:\\users\\nazar\\anaconda3\\lib\\site-packages (from ipywidgets) (3.0.15)\n",
      "Requirement already satisfied: decorator in c:\\users\\nazar\\anaconda3\\lib\\site-packages (from ipython>=6.1.0->ipywidgets) (5.1.1)\n",
      "Requirement already satisfied: jedi>=0.16 in c:\\users\\nazar\\anaconda3\\lib\\site-packages (from ipython>=6.1.0->ipywidgets) (0.19.1)\n",
      "Requirement already satisfied: matplotlib-inline in c:\\users\\nazar\\anaconda3\\lib\\site-packages (from ipython>=6.1.0->ipywidgets) (0.1.6)\n",
      "Requirement already satisfied: prompt-toolkit<3.1.0,>=3.0.41 in c:\\users\\nazar\\anaconda3\\lib\\site-packages (from ipython>=6.1.0->ipywidgets) (3.0.43)\n",
      "Requirement already satisfied: pygments>=2.4.0 in c:\\users\\nazar\\anaconda3\\lib\\site-packages (from ipython>=6.1.0->ipywidgets) (2.15.1)\n",
      "Requirement already satisfied: stack-data in c:\\users\\nazar\\anaconda3\\lib\\site-packages (from ipython>=6.1.0->ipywidgets) (0.2.0)\n",
      "Requirement already satisfied: colorama in c:\\users\\nazar\\anaconda3\\lib\\site-packages (from ipython>=6.1.0->ipywidgets) (0.4.6)\n",
      "Requirement already satisfied: parso<0.9.0,>=0.8.3 in c:\\users\\nazar\\anaconda3\\lib\\site-packages (from jedi>=0.16->ipython>=6.1.0->ipywidgets) (0.8.3)\n",
      "Requirement already satisfied: wcwidth in c:\\users\\nazar\\anaconda3\\lib\\site-packages (from prompt-toolkit<3.1.0,>=3.0.41->ipython>=6.1.0->ipywidgets) (0.2.5)\n",
      "Requirement already satisfied: executing in c:\\users\\nazar\\anaconda3\\lib\\site-packages (from stack-data->ipython>=6.1.0->ipywidgets) (0.8.3)\n",
      "Requirement already satisfied: asttokens in c:\\users\\nazar\\anaconda3\\lib\\site-packages (from stack-data->ipython>=6.1.0->ipywidgets) (2.0.5)\n",
      "Requirement already satisfied: pure-eval in c:\\users\\nazar\\anaconda3\\lib\\site-packages (from stack-data->ipython>=6.1.0->ipywidgets) (0.2.2)\n",
      "Requirement already satisfied: six in c:\\users\\nazar\\anaconda3\\lib\\site-packages (from asttokens->stack-data->ipython>=6.1.0->ipywidgets) (1.16.0)\n"
     ]
    }
   ],
   "source": [
    "!pip install ipywidgets\n",
    "!pip install control"
   ]
  },
  {
   "cell_type": "code",
   "execution_count": 2,
   "id": "31b0aaa8-adb0-4ea0-89bb-712ba152bc56",
   "metadata": {},
   "outputs": [],
   "source": [
    "import numpy as np\n",
    "import control as ctrl\n",
    "from scipy.signal import cont2discrete\n",
    "import matplotlib.pyplot as plt\n",
    "from ipywidgets import FloatSlider, IntSlider, Button, VBox, HBox, Output\n",
    "from IPython.display import display, clear_output"
   ]
  },
  {
   "cell_type": "code",
   "execution_count": 3,
   "id": "bb4ea8ff-c356-4c19-913d-d7e5e842bf30",
   "metadata": {},
   "outputs": [],
   "source": [
    "np.set_printoptions(threshold=np.inf)"
   ]
  },
  {
   "cell_type": "code",
   "execution_count": 4,
   "id": "d390b766-c4fa-4f6f-9375-a88ee4a9ba8b",
   "metadata": {},
   "outputs": [],
   "source": [
    "# PARÁMETROS DEFINITIVOS\n",
    "Kp = 0.1\n",
    "z_c = 1.0\n",
    "tau = 0.3\n",
    "a1 = 1.8\n",
    "a0 = 0.9\n",
    "Kq = 0.8\n",
    "z_p = 1.2\n",
    "kq = 0.5\n",
    "\n",
    "Ki = Kp * z_c"
   ]
  },
  {
   "cell_type": "code",
   "execution_count": 5,
   "id": "e6a47feb-398b-402d-ac52-d9b034440945",
   "metadata": {},
   "outputs": [],
   "source": [
    "# DeltaT\n",
    "dt = FloatSlider(description='DeltaT', min=0, max=1, step=0.1, value=1)\n",
    "\n",
    "# Tiempo de simulación\n",
    "tiempoSimulacion = FloatSlider(description='Tiempo de Simulación', min=100, max=300, step=10, value=150.0)\n",
    "\n",
    "# Valor de referencia\n",
    "ref = FloatSlider(description='Referencia', min=-10.0, max=15.0, step=0.5, value=10.0)\n",
    "\n",
    "# Segundo en el que se inserta la perturbación\n",
    "pert_start = IntSlider(description='Pert. Inicio', min=0, max=99, step=1, value=70)\n",
    "\n",
    "# Segundos que dura la perturbación\n",
    "pert_dur = IntSlider(description='Duración', min=1, max=200, step=1, value=3)\n",
    "\n",
    "# Amplitud de la perturbación\n",
    "pert_amp = FloatSlider(description='Amplitud', min=0, max=50, step=1.0, value=20.0)\n",
    "\n",
    "# Botón RUN\n",
    "run_button = Button(description='Run', button_style='success')\n",
    "output = Output()"
   ]
  },
  {
   "cell_type": "code",
   "execution_count": 6,
   "id": "b92e1d9e-c9bc-4312-88a8-7c70e0750c10",
   "metadata": {
    "editable": true,
    "slideshow": {
     "slide_type": ""
    },
    "tags": []
   },
   "outputs": [
    {
     "name": "stdout",
     "output_type": "stream",
     "text": [
      "Polos del sistema total: [-3.48117088+0.j         -1.01728038+0.j         -0.20764354+0.60694012j\n",
      " -0.20764354-0.60694012j -0.21959498+0.j        ]\n"
     ]
    }
   ],
   "source": [
    "u_max = 15   # grados de deflexión máxima\n",
    "u_min = -15\n",
    "\n",
    "activar_lim = True\n",
    "\n",
    "# Gc = (Kps + Ki) / s = Kp + Ki/s\n",
    "Gc = ctrl.tf([Kp, Ki], [1, 0])\n",
    "\n",
    "# Ga = 1 / (tau*s + 1)\n",
    "Ga = ctrl.tf([1], [tau, 1])\n",
    "\n",
    "# Gp = (Kq*s + Kq* z_p) / (s^3 + a1 * s^2 + a0*s) = (Kq (s + z_p)) / (s(s^2 + a1 * s + a0))\n",
    "Gp = ctrl.tf([Kq, Kq * z_p], [1, a1, a0, 0])\n",
    "G1 = ctrl.feedback(Ga * Gp, kq)  # G1 = (Ga*Gp)/(1+Ga*Gp*kq)\n",
    "H2 = 1\n",
    "\n",
    "# G_total = (Gc*G1) / (1+Gc*G1)\n",
    "G_global = ctrl.feedback(Gc * G1, H2)\n",
    "\n",
    "# Polos\n",
    "print(\"Polos del sistema total:\", ctrl.poles(G_global))"
   ]
  },
  {
   "cell_type": "code",
   "execution_count": 7,
   "id": "af75f2ff-c208-4b87-a2e1-ef1e720d8292",
   "metadata": {},
   "outputs": [],
   "source": [
    "# Creo un espacio de estado a partir de G1\n",
    "G1_ss = ctrl.ss(G1)\n",
    "\n",
    "# G1 se puede representar como un espacio de estado continuo, es decir, como dos ecuaciones diferenciales\n",
    "\n",
    "# x'(t) = A x(t) + B u(t)\n",
    "# y(t)  = C x(t) + D u(t)\n",
    "\n",
    "# x es el vector de estado interno\n",
    "# u es el vector de entrada de G1\n",
    "# y es el vector de salida de G1\n",
    "\n",
    "A = G1_ss.A\n",
    "B = G1_ss.B\n",
    "C = G1_ss.C\n",
    "D = G1_ss.D\n",
    "\n",
    "# Para simular en computadora trabajo en steps de tiempo de magnitud dt, por lo tanto, tengo que discretizar el espacio de estado continuo\n",
    "\n",
    "# x[k+1] = Ad x[k] + Bd u[k]\n",
    "# y[k]   = Cd x[k] + Dd u[k]\n",
    "\n",
    "# Ad indica cómo evoluciona el estado del sistema entre un instante y el siguiente, considerando la dinámica de G1 y el tiempo de muestreo.\n",
    "# Bd muestra cómo la entrada digitalizada u[k] afecta al estado siguiente.\n",
    "# Cd indica cómo el estado x[k] se convierte en salida y[k].\n",
    "# Dd indica si hay una conexión directa entre entrada y salida."
   ]
  },
  {
   "cell_type": "code",
   "execution_count": 8,
   "id": "03430ffb-0575-43ec-9194-9509f6d046a5",
   "metadata": {},
   "outputs": [],
   "source": [
    "def simular(ref, pert_start, pert_dur, pert_amp, tiempoSimulacion, dt):\n",
    "    t_vector = np.arange(0, tiempoSimulacion, dt)\n",
    "    Ad, Bd, Cd, Dd, _ = cont2discrete((A, B, C, D), dt)\n",
    "\n",
    "    salida = np.zeros_like(t_vector)\n",
    "    errorAcum = 0\n",
    "    x = np.zeros((Ad.shape[0],))\n",
    "    # Hacemos el vector perturbación poniendo todo ceros menos en los segundos deseados\n",
    "    pert = np.where((t_vector >= pert_start) & (t_vector < pert_start + pert_dur), pert_amp, 0)\n",
    "\n",
    "    print(\"\\n   Tiempo | Entrada |   Salida   \")\n",
    "    print(\"-\" * 35)\n",
    "\n",
    "    # Simulación\n",
    "    # Cada iteración representa un segundo o scan\n",
    "    for i in range(1, len(t_vector)):\n",
    "        # Perturbación en este instante t\n",
    "        pert_act = pert[i]\n",
    "\n",
    "        # Señal de error en este instante t\n",
    "        señalDeError = ref - salida[i-1]\n",
    "\n",
    "        # Como esta discretizado, en lugar de usar una integral se usa una sumatoria de errores acumulados en la variable integral\n",
    "        señalDeControl = Kp * señalDeError + Ki * errorAcum + pert_act\n",
    "\n",
    "        # errorAcum += señalDeError * dt\n",
    "\n",
    "        if activar_lim:\n",
    "            señalDeControlSat = np.clip(señalDeControl, u_min, u_max)\n",
    "        else:\n",
    "            señalDeControlSat = señalDeControl\n",
    "\n",
    "        # @ hace el producto matricial\n",
    "\n",
    "        # x[k+1] = Ad x[k] + Bd u[k]\n",
    "        x = Ad @ x + Bd.flatten() * señalDeControlSat\n",
    "\n",
    "        # y[k] = Cd x[k] + Dd u[k]\n",
    "        y = Cd @ x + Dd.flatten() * señalDeControlSat\n",
    "        salida[i] = y[0]  # y es un array con un solo valor\n",
    "\n",
    "        if señalDeControl == señalDeControlSat:\n",
    "            errorAcum += señalDeError * dt\n",
    "\n",
    "        print(f\"{t_vector[i]:>9.5f} | {ref:>7.2f} | {salida[i]:>10.4f}\")\n",
    "\n",
    "    # Vector de 100 posiciones con la entrada 10\n",
    "    entrada = np.ones_like(t_vector) * ref\n",
    "\n",
    "    plt.figure(figsize=(10, 5))\n",
    "    plt.plot(t_vector, salida, label=\"Salida θ(t)\")\n",
    "    plt.plot(t_vector, entrada, '--', label=\"Entrada θc\")\n",
    "    plt.xlabel(\"Tiempo [s]\")\n",
    "    plt.ylabel(\"Ángulo de pitch\")\n",
    "    plt.title(\"Respuesta\")\n",
    "    plt.legend()\n",
    "\n",
    "    plt.grid(axis='x', color='gray', linestyle='--', linewidth=0.5)\n",
    "\n",
    "    step = 4 if t_vector[-1] <= 100 else 10\n",
    "    plt.xticks(np.arange(0, t_vector[-1] + 1, step))\n",
    "\n",
    "\n",
    "    plt.tight_layout()\n",
    "    plt.show()"
   ]
  },
  {
   "cell_type": "code",
   "execution_count": 9,
   "id": "3bb7d424-6db5-4f40-96d5-67d43bf295df",
   "metadata": {},
   "outputs": [],
   "source": [
    "def on_button_clicked(b):\n",
    "    with output:\n",
    "        clear_output(wait=True)\n",
    "        simular(ref.value, pert_start.value, pert_dur.value, pert_amp.value, tiempoSimulacion.value, dt.value)"
   ]
  },
  {
   "cell_type": "code",
   "execution_count": 10,
   "id": "4891daf3-1c49-4b2e-8adf-544871c675f4",
   "metadata": {},
   "outputs": [],
   "source": [
    "run_button.on_click(on_button_clicked)"
   ]
  },
  {
   "cell_type": "code",
   "execution_count": 11,
   "id": "33038a68-7d04-4cda-927a-c37d5abec0de",
   "metadata": {},
   "outputs": [
    {
     "data": {
      "application/vnd.jupyter.widget-view+json": {
       "model_id": "0ac3467f37414c35b32cb893c31f026e",
       "version_major": 2,
       "version_minor": 0
      },
      "text/plain": [
       "VBox(children=(HBox(children=(FloatSlider(value=10.0, description='Referencia', max=15.0, min=-10.0, step=0.5)…"
      ]
     },
     "metadata": {},
     "output_type": "display_data"
    }
   ],
   "source": [
    "display(VBox([\n",
    "    HBox([ref, pert_start]),\n",
    "    HBox([pert_dur, pert_amp]),\n",
    "    HBox([tiempoSimulacion, dt]),\n",
    "    run_button,\n",
    "    output\n",
    "]))"
   ]
  }
 ],
 "metadata": {
  "kernelspec": {
   "display_name": "Python [conda env:base] *",
   "language": "python",
   "name": "conda-base-py"
  },
  "language_info": {
   "codemirror_mode": {
    "name": "ipython",
    "version": 3
   },
   "file_extension": ".py",
   "mimetype": "text/x-python",
   "name": "python",
   "nbconvert_exporter": "python",
   "pygments_lexer": "ipython3",
   "version": "3.12.3"
  }
 },
 "nbformat": 4,
 "nbformat_minor": 5
}
